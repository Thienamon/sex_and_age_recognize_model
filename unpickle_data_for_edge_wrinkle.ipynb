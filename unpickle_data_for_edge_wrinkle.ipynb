{
 "cells": [
  {
   "cell_type": "code",
   "execution_count": 1,
   "metadata": {
    "collapsed": true,
    "deletable": true,
    "editable": true
   },
   "outputs": [],
   "source": [
    "import pickle\n",
    "import numpy as np\n",
    "import datetime"
   ]
  },
  {
   "cell_type": "code",
   "execution_count": 2,
   "metadata": {
    "collapsed": false,
    "deletable": true,
    "editable": true
   },
   "outputs": [
    {
     "name": "stdout",
     "output_type": "stream",
     "text": [
      "4400\n",
      "20_man , 14:21:36.158069\n",
      "4400\n",
      "40_man , 14:21:36.572092\n",
      "4400\n",
      "60_man , 14:21:36.689099\n",
      "4400\n",
      "20_woman , 14:21:38.892225\n",
      "4400\n",
      "40_woman , 14:21:39.098237\n",
      "4400\n",
      "60_woman , 14:21:39.189242\n",
      "end\n"
     ]
    }
   ],
   "source": [
    "data_file_name = 'face_data_w.npz'\n",
    "test_file_name = 'test_data_w.npz'\n",
    "\n",
    "names = ['20_man', '40_man', '60_man', '20_woman', '40_woman', '60_woman']\n",
    "\n",
    "# 1이 옆 2가 위\n",
    "for name in names:\n",
    "    with open('./data/w/'+name, 'rb') as f:\n",
    "        temp = pickle.load(f)\n",
    "        print(len(temp[0][2]))\n",
    "        for i in range(len(temp)):\n",
    "            slt = np.ndarray(shape=(1, 2))\n",
    "            slt.fill(0)\n",
    "            slt[0][temp[i][1]] = 1\n",
    "\n",
    "            alt = np.ndarray(shape=(1, 3))\n",
    "            alt.fill(0)\n",
    "            alt[0][temp[i][0]] = 1                \n",
    "        \n",
    "            dt = np.asarray(temp[i][2])\n",
    "            dt = dt.reshape(-1, 80, 55, 1)\n",
    "            \n",
    "            if i == 0:\n",
    "                sex_labels1 = slt\n",
    "                age_labels1 = alt\n",
    "                data1 = dt\n",
    "            else:\n",
    "                sex_labels1 = np.concatenate((sex_labels1, slt), axis = 0)\n",
    "                age_labels1 = np.concatenate((age_labels1, alt), axis = 0)\n",
    "                data1 = np.concatenate((data1, dt), axis = 0)\n",
    "                \n",
    "    if name == '20_man':\n",
    "        sex_labels = sex_labels1\n",
    "        age_labels = age_labels1\n",
    "        data = data1\n",
    "    else:\n",
    "        sex_labels = np.concatenate((sex_labels, sex_labels1), axis = 0)\n",
    "        age_labels = np.concatenate((age_labels, age_labels1), axis = 0)\n",
    "        data = np.concatenate((data, data1), axis = 0)\n",
    "    \n",
    "    print(name,\",\",datetime.datetime.now().time())\n",
    "print(\"end\")\n",
    "\n",
    "idx = np.random.permutation(len(data))\n",
    "\n",
    "idx_tr = idx[0:int(0.8 * len(data))]\n",
    "idx_te = idx[int(0.8 * len(data)):]\n",
    "\n",
    "trS = sex_labels[idx_tr, :]\n",
    "teS = sex_labels[idx_te, :]\n",
    "\n",
    "trA = age_labels[idx_tr, :]\n",
    "teA = age_labels[idx_te, :]\n",
    "\n",
    "tr = data[idx_tr, :]\n",
    "te = data[idx_te, :]\n",
    "\n",
    "\n",
    "\n",
    "np.savez(data_file_name, sex_labels = trS, age_labels = trA, data = tr)\n",
    "np.savez(test_file_name, sex_labels = teS, age_labels = teA, data = te)"
   ]
  },
  {
   "cell_type": "code",
   "execution_count": 3,
   "metadata": {
    "collapsed": false,
    "deletable": true,
    "editable": true
   },
   "outputs": [
    {
     "name": "stdout",
     "output_type": "stream",
     "text": [
      "[[ 1.  0.  0.]\n",
      " [ 0.  1.  0.]\n",
      " [ 1.  0.  0.]\n",
      " [ 1.  0.  0.]\n",
      " [ 1.  0.  0.]\n",
      " [ 1.  0.  0.]\n",
      " [ 1.  0.  0.]\n",
      " [ 1.  0.  0.]\n",
      " [ 1.  0.  0.]\n",
      " [ 0.  1.  0.]\n",
      " [ 1.  0.  0.]\n",
      " [ 1.  0.  0.]\n",
      " [ 0.  0.  1.]\n",
      " [ 1.  0.  0.]\n",
      " [ 1.  0.  0.]\n",
      " [ 1.  0.  0.]\n",
      " [ 0.  1.  0.]\n",
      " [ 0.  0.  1.]\n",
      " [ 1.  0.  0.]\n",
      " [ 1.  0.  0.]\n",
      " [ 1.  0.  0.]\n",
      " [ 1.  0.  0.]\n",
      " [ 1.  0.  0.]\n",
      " [ 1.  0.  0.]\n",
      " [ 1.  0.  0.]\n",
      " [ 1.  0.  0.]\n",
      " [ 1.  0.  0.]]\n"
     ]
    }
   ],
   "source": [
    "f = np.load('face_data_w.npz')\n",
    "l = f['age_labels']\n",
    "print(l[3:30])"
   ]
  },
  {
   "cell_type": "code",
   "execution_count": null,
   "metadata": {
    "collapsed": true,
    "deletable": true,
    "editable": true
   },
   "outputs": [],
   "source": []
  }
 ],
 "metadata": {
  "kernelspec": {
   "display_name": "Python 3",
   "language": "python",
   "name": "python3"
  },
  "language_info": {
   "codemirror_mode": {
    "name": "ipython",
    "version": 3
   },
   "file_extension": ".py",
   "mimetype": "text/x-python",
   "name": "python",
   "nbconvert_exporter": "python",
   "pygments_lexer": "ipython3",
   "version": "3.5.3"
  }
 },
 "nbformat": 4,
 "nbformat_minor": 2
}
