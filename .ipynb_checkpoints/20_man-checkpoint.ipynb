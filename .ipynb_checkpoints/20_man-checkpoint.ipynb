{
 "cells": [
  {
   "cell_type": "markdown",
   "metadata": {
    "deletable": true,
    "editable": true
   },
   "source": [
    "# GrayScale version -> [   ......   [ 나이 , 성별 , [ data... ] ]    ......   ]"
   ]
  },
  {
   "cell_type": "code",
   "execution_count": 1,
   "metadata": {
    "collapsed": false,
    "deletable": true,
    "editable": true
   },
   "outputs": [],
   "source": [
    "import glob\n",
    "import cv2\n",
    "import pickle\n",
    "import numpy as np\n",
    "import os\n",
    "\n",
    "c = []\n",
    "\n",
    "os.chdir(\"./20_man_after\")\n",
    "\n",
    "for image in glob.glob(\"*.jpg\"):\n",
    "    a = []\n",
    "    b = [0, 0]\n",
    "    n = cv2.imread(image)\n",
    "    gray_n = cv2.cvtColor(n, cv2.COLOR_BGR2GRAY)\n",
    "    for i in range(128):\n",
    "        for j in range(128):\n",
    "            a.append(gray_n[i, 127-j]) #변경된 부분\n",
    "    #arr = np.array(a)\n",
    "    #np.reshape(arr, (128, 128))\n",
    "    #b.append(arr)\n",
    "    b.append(a) #원래대로 바꿨음. 그냥 list 형식으로\n",
    "    c.append(b)\n",
    "    \n",
    "os.chdir(\"C:/용현/ipython notebook/종합설계/Labeling 작업/2차 세중이형한테보낼용/좌우반전ver\")\n",
    "\n",
    "with open(\"20_man\", 'wb') as f:\n",
    "    pickle.dump(c, f)"
   ]
  }
 ],
 "metadata": {
  "kernelspec": {
   "display_name": "Python 3",
   "language": "python",
   "name": "python3"
  },
  "language_info": {
   "codemirror_mode": {
    "name": "ipython",
    "version": 3
   },
   "file_extension": ".py",
   "mimetype": "text/x-python",
   "name": "python",
   "nbconvert_exporter": "python",
   "pygments_lexer": "ipython3",
   "version": "3.5.2"
  }
 },
 "nbformat": 4,
 "nbformat_minor": 2
}
